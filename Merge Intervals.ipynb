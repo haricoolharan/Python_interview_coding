{
 "cells": [
  {
   "cell_type": "raw",
   "metadata": {},
   "source": [
    "Given an array of intervals where intervals[i] = [starti, endi], merge all overlapping intervals, and return an array of the non-overlapping intervals that cover all the intervals in the input."
   ]
  },
  {
   "cell_type": "raw",
   "metadata": {},
   "source": [
    "Input: intervals = [[1,3],[2,6],[8,10],[15,18]]\n",
    "Output: [[1,6],[8,10],[15,18]]\n",
    "Explanation: Since intervals [1,3] and [2,6] overlaps, merge them into [1,6]."
   ]
  },
  {
   "cell_type": "raw",
   "metadata": {},
   "source": [
    "Input: intervals = [[1,4],[4,5]]\n",
    "Output: [[1,5]]\n",
    "Explanation: Intervals [1,4] and [4,5] are considered overlapping."
   ]
  },
  {
   "cell_type": "raw",
   "metadata": {},
   "source": [
    "Constraints:\n",
    "\n",
    "1 <= intervals.length <= 104\n",
    "intervals[i].length == 2\n",
    "0 <= starti <= endi <= 104"
   ]
  },
  {
   "cell_type": "code",
   "execution_count": 4,
   "metadata": {},
   "outputs": [
    {
     "name": "stdout",
     "output_type": "stream",
     "text": [
      "[1 3 2 6]\n",
      "[ 1  6  8 10]\n",
      "[ 8 10 15 18]\n"
     ]
    },
    {
     "data": {
      "text/plain": [
       "[[1, 6], [8, 10], [15, 18]]"
      ]
     },
     "execution_count": 4,
     "metadata": {},
     "output_type": "execute_result"
    }
   ],
   "source": [
    "import numpy as np\n",
    "interval =list([[1,4],[4,5]])\n",
    "interval=list([[1,3],[2,6],[8,10],[15,18]])\n",
    "#starting pointer from 0 to nth element in the array\n",
    "l=0\n",
    "\n",
    "#since interval array is constantly updating we are taking len(interval) and 'l' current position of the pointer\n",
    "# if current position of the pointer reaches the length of the interval array loop breaks\n",
    "while(len(interval)-1!=l):\n",
    "   \n",
    "    #take interval[i] and interval[i+1] to compare\n",
    "    array=np.array(interval[l:l+2]).ravel() #ravel gives multidimention array to 1 dimention array\n",
    "    print(array)\n",
    "\n",
    "    #if intervals overlapping then\n",
    "    if array[1]>=array[2]:\n",
    "            #removing the elements\n",
    "            interval.pop(l)\n",
    "            interval.pop(l)\n",
    "            #inserting the made up interval\n",
    "            interval.insert(l,[array[0],array[3]])\n",
    "           #([1,6],[8,10],[15,18])\n",
    "           #since we removed i and i+1 we need to update 'l' current pointer\n",
    "            l=l-1\n",
    "    l=l+1\n",
    "interval"
   ]
  }
 ],
 "metadata": {
  "kernelspec": {
   "display_name": "Python 3",
   "language": "python",
   "name": "python3"
  },
  "language_info": {
   "codemirror_mode": {
    "name": "ipython",
    "version": 3
   },
   "file_extension": ".py",
   "mimetype": "text/x-python",
   "name": "python",
   "nbconvert_exporter": "python",
   "pygments_lexer": "ipython3",
   "version": "3.7.0"
  }
 },
 "nbformat": 4,
 "nbformat_minor": 4
}
