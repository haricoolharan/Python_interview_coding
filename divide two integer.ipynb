{
 "cells": [
  {
   "cell_type": "raw",
   "metadata": {},
   "source": [
    "Given two integers dividend and divisor, divide two integers without using multiplication, division, and mod operator.\n",
    "\n",
    "Return the quotient after dividing dividend by divisor.\n",
    "\n",
    "The integer division should truncate toward zero, which means losing its fractional part. For example, truncate(8.345) = 8 and truncate(-2.7335) = -2.\n",
    "\n",
    "Note:\n",
    "\n",
    "Assume we are dealing with an environment that could only store integers within the 32-bit signed integer range: [−231,  231 − 1]. For this problem, assume that your function returns 231 − 1 when the division result overflows.\n",
    " \n",
    "\n",
    "Example 1:\n",
    "\n",
    "Input: dividend = 10, divisor = 3\n",
    "Output: 3\n",
    "Explanation: 10/3 = truncate(3.33333..) = 3.\n",
    "Example 2:\n",
    "\n",
    "Input: dividend = 7, divisor = -3\n",
    "Output: -2\n",
    "Explanation: 7/-3 = truncate(-2.33333..) = -2.\n",
    "Example 3:\n",
    "\n",
    "Input: dividend = 0, divisor = 1\n",
    "Output: 0\n",
    "Example 4:\n",
    "\n",
    "Input: dividend = 1, divisor = 1\n",
    "Output: 1\n",
    " \n",
    "\n",
    "Constraints:\n",
    "\n",
    "-231 <= dividend, divisor <= 231 - 1\n",
    "divisor != 0"
   ]
  },
  {
   "cell_type": "raw",
   "metadata": {},
   "source": [
    "subtraction of divisor by dividend time is division\n",
    "example: 10/5\n",
    "10-5=5 1 time\n",
    "5-5=0  2 time\n",
    "Answer(10/5)=2"
   ]
  },
  {
   "cell_type": "raw",
   "metadata": {},
   "source": [
    "#phase 2\n",
    "subtract the divisor by dividend recursively till the dividsor reaches zero (divisor-dividend)\n",
    "note number of times the divisor is getting subtracted that gives the quotient\n",
    "and last divisor value before getting zero is the reminder"
   ]
  },
  {
   "cell_type": "code",
   "execution_count": 8,
   "metadata": {},
   "outputs": [
    {
     "name": "stdout",
     "output_type": "stream",
     "text": [
      "2\n"
     ]
    }
   ],
   "source": [
    "\n",
    "n = 7\n",
    "m = n\n",
    "d = 3\n",
    "c = d\n",
    "output = []\n",
    "#eliminate the sign of the numbers for calculation purpose and sign has been included at the end of calculation\n",
    "#if first element is alone negative\n",
    "if (d < 0) & (n >0 ):\n",
    "    d = -(d)\n",
    "#if second element is alone negative\n",
    "if (n < 0) & (d > 0):\n",
    "    n = -(n)\n",
    "#if both ara negative\n",
    "if (n < 0) &(d < 0):\n",
    "    d = -(d)\n",
    "    n = -(n)\n",
    "\n",
    "#phase 1\n",
    "#use simple recurrsive subtraction of first by second and store the quotion ans reminder\n",
    "while (n-d >=0):\n",
    "    n = n-d\n",
    "    output.append(n)\n",
    "#print(m,c,output)\n",
    "#length of the output which stores the quotient\n",
    "\n",
    "#taking the negative sign into account\n",
    "#if any one number is negative include negative sign at the result\n",
    "if (m<0 )| (c < 0):\n",
    "    print((-1) *(len(output)))\n",
    "else:\n",
    "    print(len(output))"
   ]
  }
 ],
 "metadata": {
  "kernelspec": {
   "display_name": "Python 3",
   "language": "python",
   "name": "python3"
  },
  "language_info": {
   "codemirror_mode": {
    "name": "ipython",
    "version": 3
   },
   "file_extension": ".py",
   "mimetype": "text/x-python",
   "name": "python",
   "nbconvert_exporter": "python",
   "pygments_lexer": "ipython3",
   "version": "3.7.0"
  }
 },
 "nbformat": 4,
 "nbformat_minor": 4
}
