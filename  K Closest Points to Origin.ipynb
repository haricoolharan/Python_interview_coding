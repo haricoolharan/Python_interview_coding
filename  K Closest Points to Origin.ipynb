{
 "cells": [
  {
   "cell_type": "raw",
   "metadata": {},
   "source": [
    "K Closest Points to Origin\n",
    "We have a list of points on the plane.  Find the K closest points to the origin (0, 0).\n",
    "\n",
    "(Here, the distance between two points on a plane is the Euclidean distance.)\n",
    "\n",
    "You may return the answer in any order.  The answer is guaranteed to be unique (except for the order that it is in.)\n",
    "\n",
    " \n",
    "\n",
    "Example 1:\n",
    "\n",
    "Input: points = [[1,3],[-2,2]], K = 1\n",
    "Output: [[-2,2]]\n",
    "Explanation: \n",
    "The distance between (1, 3) and the origin is sqrt(10).\n",
    "The distance between (-2, 2) and the origin is sqrt(8).\n",
    "Since sqrt(8) < sqrt(10), (-2, 2) is closer to the origin.\n",
    "We only want the closest K = 1 points from the origin, so the answer is just [[-2,2]].\n",
    "Example 2:\n",
    "\n",
    "Input: points = [[3,3],[5,-1],[-2,4]], K = 2\n",
    "Output: [[3,3],[-2,4]]\n",
    "(The answer [[-2,4],[3,3]] would also be accepted.)\n",
    " \n",
    "\n",
    "Note:\n",
    "\n",
    "1 <= K <= points.length <= 10000\n",
    "-10000 < points[i][0] < 10000\n",
    "-10000 < points[i][1] < 10000"
   ]
  },
  {
   "cell_type": "raw",
   "metadata": {},
   "source": [
    "insert the element to the first position\n",
    "compare the right element distance with its distance\n",
    "    if the right element distance is lesser, then swap them\n",
    "continue until all the number to the right is greater than the current one."
   ]
  },
  {
   "cell_type": "raw",
   "metadata": {},
   "source": [
    "output gets an element [3,3]\n",
    "iterate from 1st position [5,-1]\n",
    "#first loop i=1\n",
    "insert [5,-1] into the output at position 0, so [3,3] moves from 0 to 1 position\n",
    "compare the [5,-1] at 0 position and [3,3] at position 1\n",
    "swaping as the distance of [3,3] is less than [5,5]\n",
    "#2nd loop i=2\n",
    "insert [-2,4] into the output at position 0, so [3,3] moves from 0 to 1 postion,[5,-1] moves from 1 to 2\n",
    "compare the [-2,4] at 0 position and [3,3] at position 1 \n",
    "swaping as the distance of [-2,4] is less than [3,3]\n",
    "compare the [-2,4] at 1 position and [5,-1] at position 2\n",
    "Doesnt swap as [-2,4] is less than [5,-1]"
   ]
  },
  {
   "cell_type": "code",
   "execution_count": 35,
   "metadata": {},
   "outputs": [
    {
     "data": {
      "text/plain": [
       "[[3, 3], [-2, 4], [5, -1]]"
      ]
     },
     "execution_count": 35,
     "metadata": {},
     "output_type": "execute_result"
    }
   ],
   "source": [
    "import math\n",
    "points =list([[3,3],[5,-1],[-2,4]])\n",
    "m = len(points)\n",
    "k=2\n",
    "#starting the calculation for first coordinate\n",
    "output = [points[0]]\n",
    "#formula to find the distance between coordinates from the origin Euclidean distance\n",
    "def distance(m1):\n",
    "    return math.sqrt((0-m1[0])**2 + (0-m1[1])**2)\n",
    "\n",
    "for i in range(1,m):\n",
    "    #insert the element into the first position.\n",
    "    output.insert(0,points[i])\n",
    "    #swap the inserted coordinate from 0 position until it reaches the position that rightside coordnates distance is greater than this\n",
    "    #Bubble sort algorithm\n",
    "    #iterate from 0 to before the last element\n",
    "    for j in range(0,len(output)-1):\n",
    "        #checking whether the right element distance is less or greater\n",
    "        if distance(output[j]) > distance(output[j+1]):\n",
    "            #if lesser than the current element than swap the position\n",
    "            output[j],output[j+1]=output[j+1],output[j]\n",
    "        else:\n",
    "            #if the right element distance is greater stop swaping\n",
    "            break\n",
    "output"
   ]
  },
  {
   "cell_type": "code",
   "execution_count": 49,
   "metadata": {},
   "outputs": [
    {
     "name": "stdout",
     "output_type": "stream",
     "text": [
      "[0 2 1]\n"
     ]
    },
    {
     "data": {
      "text/plain": [
       "array([[ 3,  3],\n",
       "       [-2,  4],\n",
       "       [ 5, -1]])"
      ]
     },
     "execution_count": 49,
     "metadata": {},
     "output_type": "execute_result"
    }
   ],
   "source": [
    "points=np.array(points)\n",
    "#calculate the distance from origin\n",
    "output=np.array([distance(i) for i in points])\n",
    "#output.argsort() provides a position in chronological order of the element\n",
    "print(output.argsort())\n",
    "points[output.argsort()]"
   ]
  }
 ],
 "metadata": {
  "kernelspec": {
   "display_name": "Python 3",
   "language": "python",
   "name": "python3"
  },
  "language_info": {
   "codemirror_mode": {
    "name": "ipython",
    "version": 3
   },
   "file_extension": ".py",
   "mimetype": "text/x-python",
   "name": "python",
   "nbconvert_exporter": "python",
   "pygments_lexer": "ipython3",
   "version": "3.7.0"
  }
 },
 "nbformat": 4,
 "nbformat_minor": 4
}
