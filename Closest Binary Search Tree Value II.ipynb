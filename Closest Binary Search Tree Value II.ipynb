{
 "cells": [
  {
   "cell_type": "raw",
   "metadata": {},
   "source": [
    "Given a non-empty binary search tree and a target value, find k values in the BST that are closest to the target.\n",
    "\n",
    "Note:\n",
    "\n",
    "Given target value is a floating point.\n",
    "You may assume k is always valid, that is: k ≤ total nodes.\n",
    "You are guaranteed to have only one unique set of k values in the BST that are closest to the target.\n",
    "Example:\n",
    "\n",
    "Input: root = [4,2,5,1,3], target = 3.714286, and k = 2\n",
    "\n",
    "    4\n",
    "   / \\\n",
    "  2   5\n",
    " / \\\n",
    "1   3\n",
    "\n",
    "Output: [4,3]"
   ]
  },
  {
   "cell_type": "code",
   "execution_count": 8,
   "metadata": {},
   "outputs": [],
   "source": [
    "import numpy as np"
   ]
  },
  {
   "cell_type": "code",
   "execution_count": 30,
   "metadata": {},
   "outputs": [
    {
     "name": "stdout",
     "output_type": "stream",
     "text": [
      "[0.285714 1.714286 1.285714 2.714286 0.714286]\n",
      "[0 4 2 1 3]\n"
     ]
    },
    {
     "data": {
      "text/plain": [
       "array([4, 3])"
      ]
     },
     "execution_count": 30,
     "metadata": {},
     "output_type": "execute_result"
    }
   ],
   "source": [
    "root =np.array([4,2,5,1,3])\n",
    "target = 3.714286\n",
    "k=2\n",
    "#find the distance between them\n",
    "a=np.array([abs(i-target) for i in root])\n",
    "print(a)\n",
    "#print positions of the array with respect to the sorted order(lesser to greater)\n",
    "print(a.argsort())\n",
    "#with the position sorted with the elements value, we print the main element from those positions \n",
    "root[a.argsort()][:k]"
   ]
  }
 ],
 "metadata": {
  "kernelspec": {
   "display_name": "Python 3",
   "language": "python",
   "name": "python3"
  },
  "language_info": {
   "codemirror_mode": {
    "name": "ipython",
    "version": 3
   },
   "file_extension": ".py",
   "mimetype": "text/x-python",
   "name": "python",
   "nbconvert_exporter": "python",
   "pygments_lexer": "ipython3",
   "version": "3.7.0"
  }
 },
 "nbformat": 4,
 "nbformat_minor": 4
}
