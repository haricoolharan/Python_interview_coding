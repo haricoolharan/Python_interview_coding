{
 "cells": [
  {
   "cell_type": "raw",
   "metadata": {},
   "source": [
    "Given a list of non-negative numbers and a target integer k, write a function to check if the array has a continuous subarray of size at least 2 that sums up to a multiple of k, that is, sums up to n*k where n is also an integer.\n",
    "\n",
    " \n",
    "\n",
    "Example 1:\n",
    "\n",
    "Input: [23, 2, 4, 6, 7],  k=6\n",
    "Output: True\n",
    "Explanation: Because [2, 4] is a continuous subarray of size 2 and sums up to 6.\n",
    "Example 2:\n",
    "\n",
    "Input: [23, 2, 6, 4, 7],  k=6\n",
    "Output: True\n",
    "Explanation: Because [23, 2, 6, 4, 7] is an continuous subarray of size 5 and sums up to 42.\n",
    " \n",
    "\n",
    "Constraints:\n",
    "\n",
    "The length of the array won't exceed 10,000.\n",
    "You may assume the sum of all the numbers is in the range of a signed 32-bit integer."
   ]
  },
  {
   "cell_type": "code",
   "execution_count": null,
   "metadata": {},
   "outputs": [],
   "source": [
    "#([5,3,7,5,9] position will be [0,1,2,3,4])\n",
    "#n be array length n=5\n",
    "#start the pointer from 0 position (5)\n",
    "#fetch the different subarrays starting from the position 0 till position 4"
   ]
  },
  {
   "cell_type": "code",
   "execution_count": 21,
   "metadata": {},
   "outputs": [
    {
     "name": "stdout",
     "output_type": "stream",
     "text": [
      "subarrays starting from position 0\n",
      "subarrays starting from position 1\n",
      "subarrays starting from position 2\n",
      "subarrays starting from position 3\n",
      "subarrays starting from position 4\n"
     ]
    }
   ],
   "source": [
    "a=[5,3,7,5,9]\n",
    "l=len(a)\n",
    "for i in range(0,l):\n",
    "    print(\"subarrays starting from position\",i)"
   ]
  },
  {
   "cell_type": "code",
   "execution_count": 22,
   "metadata": {},
   "outputs": [
    {
     "name": "stdout",
     "output_type": "stream",
     "text": [
      "subarray starting from position 0 till the position 1 ==>  0 : 1\n",
      "subarray starting from position 0 till the position 2 ==>  0 : 2\n",
      "subarray starting from position 0 till the position 3 ==>  0 : 3\n",
      "subarray starting from position 0 till the position 4 ==>  0 : 4\n",
      "subarray starting from position 0 till the position 5 ==>  0 : 5\n",
      "subarray starting from position 1 till the position 2 ==>  1 : 2\n",
      "subarray starting from position 1 till the position 3 ==>  1 : 3\n",
      "subarray starting from position 1 till the position 4 ==>  1 : 4\n",
      "subarray starting from position 1 till the position 5 ==>  1 : 5\n",
      "subarray starting from position 2 till the position 3 ==>  2 : 3\n",
      "subarray starting from position 2 till the position 4 ==>  2 : 4\n",
      "subarray starting from position 2 till the position 5 ==>  2 : 5\n",
      "subarray starting from position 3 till the position 4 ==>  3 : 4\n",
      "subarray starting from position 3 till the position 5 ==>  3 : 5\n",
      "subarray starting from position 4 till the position 5 ==>  4 : 5\n"
     ]
    }
   ],
   "source": [
    "#code to fetch different subarrays\n",
    "for i in range(l):\n",
    "      for j in range(i+1,l+1):\n",
    "            print(\"subarray starting from position\",i,\"till the position\",j,\"==> \",i,\":\",j)"
   ]
  },
  {
   "cell_type": "code",
   "execution_count": 27,
   "metadata": {},
   "outputs": [
    {
     "name": "stdout",
     "output_type": "stream",
     "text": [
      "[5, 3, 7, 5]\n",
      "[5, 3, 7, 5, 9]\n"
     ]
    }
   ],
   "source": [
    "#reason for using j+1 in the second for loop:\n",
    "\n",
    "#to display array from 0th position to 4th position\n",
    "print(a[0:4]) #value displays before 4th position from a=[5,3,7,5,9]\n",
    "\n",
    "#so u need to provide a[1:5] to display all the values till 4 ->(n+1) ->5\n",
    "print(a[0:5])\n",
    "\n",
    "#reason to use i+1 in the second loop\n",
    "#to take the subarray from 0 to last variable"
   ]
  },
  {
   "cell_type": "code",
   "execution_count": 3,
   "metadata": {},
   "outputs": [
    {
     "name": "stdout",
     "output_type": "stream",
     "text": [
      "True\n"
     ]
    }
   ],
   "source": [
    "# Input: [23, 2, 4, 6, 7],  k=6\n",
    "a = [23, 2, 4, 6, 7]\n",
    "k = 6\n",
    "l = len(a)\n",
    "output = []\n",
    "#check condition to print at the end is set to false. if k condition satisfies it will be set to true\n",
    "flag = False\n",
    "for i in range(l):\n",
    "      for j in range((i+1),l+1):\n",
    "        s = sum(a[i:j])\n",
    "        m = len(a[i:j])\n",
    "        # print(a[i:j])\n",
    "        # print(s,a[i:j],\"\\n\") \n",
    "        if (s%k == 0) & (m >= 2) :\n",
    "            flag = True\n",
    "            break\n",
    "        # print(flag)\n",
    "print(flag)   "
   ]
  }
 ],
 "metadata": {
  "kernelspec": {
   "display_name": "Python 3",
   "language": "python",
   "name": "python3"
  },
  "language_info": {
   "codemirror_mode": {
    "name": "ipython",
    "version": 3
   },
   "file_extension": ".py",
   "mimetype": "text/x-python",
   "name": "python",
   "nbconvert_exporter": "python",
   "pygments_lexer": "ipython3",
   "version": "3.7.0"
  }
 },
 "nbformat": 4,
 "nbformat_minor": 4
}
