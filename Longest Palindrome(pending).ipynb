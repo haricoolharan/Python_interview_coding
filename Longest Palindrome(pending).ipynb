{
 "cells": [
  {
   "cell_type": "raw",
   "metadata": {},
   "source": [
    "Given a string s which consists of lowercase or uppercase letters, return the length of the longest palindrome that can be built with those letters.\n",
    "\n",
    "Letters are case sensitive, for example, \"Aa\" is not considered a palindrome here.\n",
    "\n",
    " \n",
    "\n",
    "Example 1:\n",
    "\n",
    "Input: s = \"abccccdd\"\n",
    "Output: 7\n",
    "Explanation:\n",
    "One longest palindrome that can be built is \"dccaccd\", whose length is 7.\n",
    "Example 2:\n",
    "\n",
    "Input: s = \"a\"\n",
    "Output: 1\n",
    "Example 3:\n",
    "\n",
    "Input: s = \"bb\"\n",
    "Output: 2\n",
    " \n",
    "\n",
    "Constraints:\n",
    "\n",
    "1 <= s.length <= 2000\n",
    "s consists of lowercase and/or uppercase English letters only."
   ]
  },
  {
   "cell_type": "code",
   "execution_count": 2,
   "metadata": {},
   "outputs": [
    {
     "name": "stdout",
     "output_type": "stream",
     "text": [
      "1\n",
      "2\n",
      "3\n",
      "4\n",
      "5\n",
      "bad\n"
     ]
    }
   ],
   "source": [
    "# Input: s = \"babad\"\n",
    "# Output: \"bab\"\n",
    "# Note: \"aba\" is also a valid answer.\n",
    "s = \"babad\"\n",
    "\n",
    "#get the length of the string\n",
    "l = len(s)\n",
    "#set the greatest palindrome as None\n",
    "output = []\n",
    "#iterate the slice length from 1 to the length of the string [1 length string,2 length string,...length of the string]\n",
    "for i in range(1,l+1):\n",
    "    print (i)\n",
    "# get different slicings of the string check for the palindrome\n",
    "    if len(s[i-3:i])>len(output) :\n",
    "        output=s[i-3:i]\n",
    "\n",
    "#if the slice string is palindrome and greater than the last palindrome store it\n",
    "\n",
    "\n",
    "# slice1=slice1[::-1] to check palindrome"
   ]
  }
 ],
 "metadata": {
  "kernelspec": {
   "display_name": "Python 3",
   "language": "python",
   "name": "python3"
  },
  "language_info": {
   "codemirror_mode": {
    "name": "ipython",
    "version": 3
   },
   "file_extension": ".py",
   "mimetype": "text/x-python",
   "name": "python",
   "nbconvert_exporter": "python",
   "pygments_lexer": "ipython3",
   "version": "3.7.0"
  }
 },
 "nbformat": 4,
 "nbformat_minor": 4
}
